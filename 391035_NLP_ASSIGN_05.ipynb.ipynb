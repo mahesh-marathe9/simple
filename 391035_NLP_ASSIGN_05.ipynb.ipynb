{
  "cells": [
    {
      "cell_type": "markdown",
      "metadata": {
        "id": "awXnLoLe4T0X"
      },
      "source": [
        "**Name = Mahesh Marathe , Roll no = 391035 , Prn = 22211533**"
      ]
    },
    {
      "cell_type": "markdown",
      "metadata": {
        "id": "xFLkrR624i9G"
      },
      "source": [
        "**Title**"
      ]
    },
    {
      "cell_type": "markdown",
      "metadata": {
        "id": "pv_dkUQa4jAm"
      },
      "source": [
        "Morphology is the study of the way words are built up from smaller meaning bearing units. Study and understand the concepts of morphology by the use of add and delete table"
      ]
    },
    {
      "cell_type": "markdown",
      "metadata": {
        "id": "uPMv8wuT4jS9"
      },
      "source": [
        "**Objective**"
      ]
    },
    {
      "cell_type": "markdown",
      "metadata": {
        "id": "7ugCmXX74jmH"
      },
      "source": [
        "The primary goal of this study is to explore the fundamental principles of morphology, which involves analyzing how words are constructed from smaller, meaningful units called morphemes. By examining processes such as addition (affixation) and deletion (clipping, backformation), we aim to understand how these morphological operations contribute to word formation across different languages. This investigation will enhance our comprehension of linguistic structure, enabling a deeper appreciation of how meaning is systematically encoded in words. Additionally, this study seeks to highlight the significance of morphology in fields such as language acquisition, computational linguistics, and natural language processing"
      ]
    },
    {
      "cell_type": "markdown",
      "metadata": {
        "id": "ey8gzU8v5lNH"
      },
      "source": [
        "**Theory**"
      ]
    },
    {
      "cell_type": "markdown",
      "metadata": {
        "id": "En3MNa8T5laB"
      },
      "source": [
        "Morphology is a core subfield of linguistics that investigates the internal structure of words and the rules governing their formation. Morphemes, the smallest units of meaning, can be free (standing alone, like \"book\") or bound (requiring attachment, like \"-s\" in \"books\"). Two key morphological processes are:\n",
        "\n",
        "Addition (Affixation):\n",
        "\n",
        "Prefixation: Adding a morpheme at the beginning (e.g., un- + happy → unhappy).\n",
        "\n",
        "Suffixation: Adding a morpheme at the end (e.g., teach + -er → teacher).\n",
        "\n",
        "Infixation: Inserting a morpheme within a word (e.g., abso-bloomin’-lutely).\n",
        "\n",
        "Circumfixation: Attaching morphemes around a root (e.g., German ge- + sag + -t → gesagt \"said\").\n",
        "\n",
        "Deletion (Shortening Processes):\n",
        "\n",
        "Clipping: Reducing a word to a shorter form (e.g., advertisement → ad).\n",
        "\n",
        "Backformation: Removing an apparent affix to form a new word (e.g., editor → edit)."
      ]
    },
    {
      "cell_type": "markdown",
      "metadata": {
        "id": "t_5PJr8i5uid"
      },
      "source": [
        "**CODE WITH OUTPUT**"
      ]
    },
    {
      "cell_type": "code",
      "execution_count": null,
      "metadata": {
        "id": "GmL0O9pK0zaJ"
      },
      "outputs": [],
      "source": [
        "import pandas as pd"
      ]
    },
    {
      "cell_type": "code",
      "execution_count": null,
      "metadata": {
        "id": "E3ti652e1xiH"
      },
      "outputs": [],
      "source": [
        "base_words = [\n",
        "    (\"happy\", [\"un-\", \"-ness\", \"-ful\", \"-s\"]),\n",
        "    (\"book\", [\"-s\"]),\n",
        "    (\"run\", [\"-ning\", \"-s\", \"-ed\"]),\n",
        "    (\"play\", [\"-ed\", \"-ing\", \"-er\", \"-s\"]),\n",
        "    (\"act\", [\"-ion\"]),\n",
        "    (\"beauty\", [\"-ful\"]),\n",
        "]"
      ]
    },
    {
      "cell_type": "code",
      "execution_count": null,
      "metadata": {
        "id": "4OIvuel11xlN"
      },
      "outputs": [],
      "source": [
        "def add_morpheme(base_word, morphemes):\n",
        "    added_words = []\n",
        "    for morpheme in morphemes:\n",
        "        added_words.append(base_word + morpheme)\n",
        "    return added_words\n"
      ]
    },
    {
      "cell_type": "code",
      "execution_count": null,
      "metadata": {
        "id": "HWRjeNF_1xq3"
      },
      "outputs": [],
      "source": [
        "def delete_morpheme(word, morphemes_to_remove):\n",
        "    for morpheme in morphemes_to_remove:\n",
        "        if word.endswith(morpheme):\n",
        "            return word[:-len(morpheme)]\n",
        "    return word"
      ]
    },
    {
      "cell_type": "code",
      "execution_count": null,
      "metadata": {
        "id": "JsiTZj4U1xuB"
      },
      "outputs": [],
      "source": [
        "add_table = []\n",
        "delete_table = []"
      ]
    },
    {
      "cell_type": "code",
      "execution_count": null,
      "metadata": {
        "id": "fygNOo9s2O3n"
      },
      "outputs": [],
      "source": [
        "for base_word, morphemes in base_words:\n",
        "    added_words = add_morpheme(base_word, morphemes)\n",
        "    for added_word in added_words:\n",
        "        add_table.append((base_word, morphemes, added_word))"
      ]
    },
    {
      "cell_type": "code",
      "execution_count": null,
      "metadata": {
        "id": "IXn5xrzO2O-1"
      },
      "outputs": [],
      "source": [
        "for base_word, morphemes in base_words:\n",
        "    for morpheme in morphemes:\n",
        "        deleted_word = delete_morpheme(base_word + morpheme, [morpheme])\n",
        "        delete_table.append((base_word + morpheme, morpheme, deleted_word))"
      ]
    },
    {
      "cell_type": "code",
      "execution_count": null,
      "metadata": {
        "id": "H5PZKCIw2PB4"
      },
      "outputs": [],
      "source": [
        "add_df = pd.DataFrame(add_table, columns=[\"Base Word\", \"Added Morphemes\", \"Resulting Word\"])\n",
        "delete_df = pd.DataFrame(delete_table, columns=[\"Word with Morpheme\", \"Deleted Morpheme\", \"Resulting Word\"])"
      ]
    },
    {
      "cell_type": "code",
      "execution_count": null,
      "metadata": {
        "colab": {
          "base_uri": "https://localhost:8080/"
        },
        "id": "9-XuoWMA2PEV",
        "outputId": "62fedfcd-9b94-4491-8099-75eb7b9f2f33"
      },
      "outputs": [
        {
          "name": "stdout",
          "output_type": "stream",
          "text": [
            "Add Table:\n",
            "   Base Word         Added Morphemes Resulting Word\n",
            "0      happy  [un-, -ness, -ful, -s]       happyun-\n",
            "1      happy  [un-, -ness, -ful, -s]     happy-ness\n",
            "2      happy  [un-, -ness, -ful, -s]      happy-ful\n",
            "3      happy  [un-, -ness, -ful, -s]        happy-s\n",
            "4       book                    [-s]         book-s\n",
            "5        run        [-ning, -s, -ed]       run-ning\n",
            "6        run        [-ning, -s, -ed]          run-s\n",
            "7        run        [-ning, -s, -ed]         run-ed\n",
            "8       play    [-ed, -ing, -er, -s]        play-ed\n",
            "9       play    [-ed, -ing, -er, -s]       play-ing\n",
            "10      play    [-ed, -ing, -er, -s]        play-er\n",
            "11      play    [-ed, -ing, -er, -s]         play-s\n",
            "12       act                  [-ion]        act-ion\n",
            "13    beauty                  [-ful]     beauty-ful\n"
          ]
        }
      ],
      "source": [
        "print(\"Add Table:\")\n",
        "print(add_df)"
      ]
    },
    {
      "cell_type": "code",
      "execution_count": null,
      "metadata": {
        "colab": {
          "base_uri": "https://localhost:8080/"
        },
        "id": "cbMsuaHA2PG2",
        "outputId": "cc06b2f4-432e-417e-d02d-9a93cb54a448"
      },
      "outputs": [
        {
          "name": "stdout",
          "output_type": "stream",
          "text": [
            "\n",
            "Delete Table:\n",
            "   Word with Morpheme Deleted Morpheme Resulting Word\n",
            "0            happyun-              un-          happy\n",
            "1          happy-ness            -ness          happy\n",
            "2           happy-ful             -ful          happy\n",
            "3             happy-s               -s          happy\n",
            "4              book-s               -s           book\n",
            "5            run-ning            -ning            run\n",
            "6               run-s               -s            run\n",
            "7              run-ed              -ed            run\n",
            "8             play-ed              -ed           play\n",
            "9            play-ing             -ing           play\n",
            "10            play-er              -er           play\n",
            "11             play-s               -s           play\n",
            "12            act-ion             -ion            act\n",
            "13         beauty-ful             -ful         beauty\n"
          ]
        }
      ],
      "source": [
        "print(\"\\nDelete Table:\")\n",
        "print(delete_df)"
      ]
    },
    {
      "cell_type": "markdown",
      "metadata": {
        "id": "_zc2KB5E53nK"
      },
      "source": [
        "**Conclution**"
      ]
    },
    {
      "cell_type": "markdown",
      "metadata": {
        "id": "5jLM4TFm56fV"
      },
      "source": [
        "Morphology provides essential insights into how languages systematically construct and modify words. By studying processes such as affixation and deletion, we uncover the underlying mechanisms that allow for the creation of new words and the adaptation of existing ones. This knowledge is not only crucial for linguistic theory but also has practical applications in language teaching, machine translation, and artificial intelligence. Understanding morphology enhances our ability to decode complex word structures, enriching both linguistic analysis and everyday communication.\n",
        "\n"
      ]
    }
  ],
  "metadata": {
    "colab": {
      "provenance": []
    },
    "kernelspec": {
      "display_name": "Python 3",
      "name": "python3"
    },
    "language_info": {
      "name": "python"
    }
  },
  "nbformat": 4,
  "nbformat_minor": 0
}
