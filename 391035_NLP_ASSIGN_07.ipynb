{
  "nbformat": 4,
  "nbformat_minor": 0,
  "metadata": {
    "colab": {
      "provenance": []
    },
    "kernelspec": {
      "name": "python3",
      "display_name": "Python 3"
    },
    "language_info": {
      "name": "python"
    }
  },
  "cells": [
    {
      "cell_type": "markdown",
      "source": [
        "**Name: Mahesh Marathe**\n",
        "  \n",
        " **Batch-A2**\n",
        "  \n",
        "  **PRN-22211533**\n",
        "  \n",
        "  **Roll_No.: 391035**\n"
      ],
      "metadata": {
        "id": "3kxYJGXc2Yls"
      }
    },
    {
      "cell_type": "markdown",
      "source": [
        "Title:- Write a better auto-complete algorithm using an N-gram model (similar models are used for translation, determining the author of a text, and speech recognition)"
      ],
      "metadata": {
        "id": "TsKoTm0E2myC"
      }
    },
    {
      "cell_type": "markdown",
      "source": [
        "Theory:-\n",
        "\n",
        "An N-gram model is a probabilistic language model that predicts the next item in a sequence based on the previous N−1 items.\n",
        "\n",
        "A bi-gram model considers one preceding word.\n",
        "\n",
        "A tri-gram model considers two preceding words.\n",
        "\n",
        "Applications:-\n",
        "\n",
        "Search engines: Suggesting the next word to complete a query\n",
        "\n",
        "Messaging apps: Auto-complete or predictive typing\n",
        "\n",
        "Voice assistants: Understanding and completing spoken sentences\n",
        "\n",
        "\n",
        "Advantages\n",
        "Simple to understand and implement\n",
        "\n",
        "Fast prediction using frequency tables or prefix trees\n",
        "\n",
        "Requires less training time compared to deep learning models\n",
        "\n"
      ],
      "metadata": {
        "id": "TI_t8Wn52uT5"
      }
    },
    {
      "cell_type": "code",
      "execution_count": null,
      "metadata": {
        "colab": {
          "base_uri": "https://localhost:8080/"
        },
        "id": "qQLUyGf3y5E-",
        "outputId": "c07e9043-7aeb-4916-eaf4-ccbf8ace2a47"
      },
      "outputs": [
        {
          "output_type": "stream",
          "name": "stdout",
          "text": [
            "Requirement already satisfied: nltk in /usr/local/lib/python3.11/dist-packages (3.9.1)\n",
            "Requirement already satisfied: click in /usr/local/lib/python3.11/dist-packages (from nltk) (8.1.8)\n",
            "Requirement already satisfied: joblib in /usr/local/lib/python3.11/dist-packages (from nltk) (1.4.2)\n",
            "Requirement already satisfied: regex>=2021.8.3 in /usr/local/lib/python3.11/dist-packages (from nltk) (2024.11.6)\n",
            "Requirement already satisfied: tqdm in /usr/local/lib/python3.11/dist-packages (from nltk) (4.67.1)\n"
          ]
        }
      ],
      "source": [
        "pip install nltk\n"
      ]
    },
    {
      "cell_type": "code",
      "source": [
        "import nltk\n",
        "from collections import defaultdict, Counter\n",
        "import random"
      ],
      "metadata": {
        "id": "T0RLuaLUzEGh"
      },
      "execution_count": null,
      "outputs": []
    },
    {
      "cell_type": "code",
      "source": [
        "nltk.download('punkt_tab')"
      ],
      "metadata": {
        "colab": {
          "base_uri": "https://localhost:8080/"
        },
        "id": "l32uKtElzH0T",
        "outputId": "386fe814-aa5c-4878-da94-32ab0da91a23"
      },
      "execution_count": null,
      "outputs": [
        {
          "output_type": "stream",
          "name": "stderr",
          "text": [
            "[nltk_data] Downloading package punkt_tab to /root/nltk_data...\n",
            "[nltk_data]   Unzipping tokenizers/punkt_tab.zip.\n"
          ]
        },
        {
          "output_type": "execute_result",
          "data": {
            "text/plain": [
              "True"
            ]
          },
          "metadata": {},
          "execution_count": 6
        }
      ]
    },
    {
      "cell_type": "code",
      "source": [
        "corpus = \"\"\"\n",
        "Artificial intelligence and machine learning are rapidly growing fields.\n",
        "Natural language processing is a part of artificial intelligence.\n",
        "Machine learning helps computers to learn from data.\n",
        "Deep learning is a subset of machine learning.\n",
        "\"\"\""
      ],
      "metadata": {
        "id": "ngfj8v9szK3t"
      },
      "execution_count": null,
      "outputs": []
    },
    {
      "cell_type": "code",
      "source": [
        "tokens = nltk.word_tokenize(corpus.lower())"
      ],
      "metadata": {
        "id": "--OhughNzNjx"
      },
      "execution_count": null,
      "outputs": []
    },
    {
      "cell_type": "code",
      "source": [
        "trigrams = defaultdict(Counter)\n",
        "for i in range(len(tokens) - 2):\n",
        "    prev_two = (tokens[i], tokens[i + 1])\n",
        "    next_word = tokens[i + 2]\n",
        "    trigrams[prev_two][next_word] += 1"
      ],
      "metadata": {
        "id": "b9lgkfMMzP7D"
      },
      "execution_count": null,
      "outputs": []
    },
    {
      "cell_type": "code",
      "source": [
        "def autocomplete(prev_words, n_suggestions=3):\n",
        "    prev_words = tuple(prev_words.lower().split()[-2:])  # take last 2 words\n",
        "    if prev_words in trigrams:\n",
        "        suggestions = trigrams[prev_words].most_common(n_suggestions)\n",
        "        return [word for word, _ in suggestions]\n",
        "    else:\n",
        "        return [\"<No suggestions>\"]"
      ],
      "metadata": {
        "id": "zD5lRpc1zZW8"
      },
      "execution_count": null,
      "outputs": []
    },
    {
      "cell_type": "code",
      "source": [
        "print(\"Suggestions for 'machine learning':\", autocomplete(\"machine learning\"))\n",
        "print(\"Suggestions for 'artificial intelligence':\", autocomplete(\"artificial intelligence\"))\n",
        "print(\"Suggestions for 'deep learning':\", autocomplete(\"deep learning\"))"
      ],
      "metadata": {
        "colab": {
          "base_uri": "https://localhost:8080/"
        },
        "id": "q9mC8Sezzb4r",
        "outputId": "ad6f29db-8d62-40f1-cadc-8ca8b45e1c87"
      },
      "execution_count": null,
      "outputs": [
        {
          "output_type": "stream",
          "name": "stdout",
          "text": [
            "Suggestions for 'machine learning': ['are', 'helps', '.']\n",
            "Suggestions for 'artificial intelligence': ['and', '.']\n",
            "Suggestions for 'deep learning': ['is']\n"
          ]
        }
      ]
    },
    {
      "cell_type": "markdown",
      "source": [
        "Conclusion:\n",
        "\n",
        "N-gram models are simple yet powerful tools for building auto-complete algorithms. They are easy to\n",
        "implement and interpret, making them ideal for real-time applications like typing assistants and\n",
        "predictive text. However, they are limited by data sparsity and context length. Despite the rise of deep\n",
        "learning models like transformers, N-grams still provide a strong baseline for many NLP tasks due to\n",
        "their low computational cost and efficiency."
      ],
      "metadata": {
        "id": "pvUhmnjv3ocA"
      }
    },
    {
      "cell_type": "code",
      "source": [],
      "metadata": {
        "id": "36wai5Atzge5"
      },
      "execution_count": null,
      "outputs": []
    }
  ]
}